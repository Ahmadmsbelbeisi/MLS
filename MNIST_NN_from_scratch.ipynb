{
 "cells": [
  {
   "cell_type": "markdown",
   "source": [
    "[![Open in Colab](https://colab.research.google.com/assets/colab-badge.svg)](https://colab.research.google.com/github/Ahmadmsbelbeisi/MLS/blob/main/MNIST_NN_from_scratch.ipynb)"
   ],
   "metadata": {
    "collapsed": false,
    "pycharm": {
     "name": "#%% md\n"
    }
   }
  },
  {
   "cell_type": "markdown",
   "source": [
    "\n",
    "# MNIST NN from scratch\n",
    "---\n",
    "####Machine Learning Seminar\n",
    "#####Ahmad Belbeisi\n",
    "######08/08/2022\n",
    "---\n",
    "\n",
    "In this notebook, We implemented a simple two-layer neural network and trained it on the MNIST digit recognizer dataset. It's meant to be an instructional example, through which you can understand the underlying math of neural networks better.\n"
   ],
   "metadata": {
    "collapsed": false,
    "pycharm": {
     "name": "#%% md\n"
    }
   }
  },
  {
   "cell_type": "code",
   "source": [
    "!pip install numpy pandas matplotlib wget\n"
   ],
   "metadata": {
    "id": "S5DKmNqzyqAs",
    "pycharm": {
     "name": "#%%\n"
    }
   },
   "execution_count": 1,
   "outputs": [
    {
     "name": "stdout",
     "output_type": "stream",
     "text": [
      "Requirement already satisfied: numpy in /Users/ahmadbelbeisi/Desktop/Machine_Learning_seminar_Ahmad_Belbeisi_Submission/venv/lib/python3.8/site-packages (1.23.1)\r\n",
      "Requirement already satisfied: pandas in /Users/ahmadbelbeisi/Desktop/Machine_Learning_seminar_Ahmad_Belbeisi_Submission/venv/lib/python3.8/site-packages (1.4.3)\r\n",
      "Requirement already satisfied: matplotlib in /Users/ahmadbelbeisi/Desktop/Machine_Learning_seminar_Ahmad_Belbeisi_Submission/venv/lib/python3.8/site-packages (3.5.2)\r\n",
      "Requirement already satisfied: wget in /Users/ahmadbelbeisi/Desktop/Machine_Learning_seminar_Ahmad_Belbeisi_Submission/venv/lib/python3.8/site-packages (3.2)\r\n",
      "Requirement already satisfied: pytz>=2020.1 in /Users/ahmadbelbeisi/Desktop/Machine_Learning_seminar_Ahmad_Belbeisi_Submission/venv/lib/python3.8/site-packages (from pandas) (2022.1)\r\n",
      "Requirement already satisfied: python-dateutil>=2.8.1 in /Users/ahmadbelbeisi/Desktop/Machine_Learning_seminar_Ahmad_Belbeisi_Submission/venv/lib/python3.8/site-packages (from pandas) (2.8.2)\r\n",
      "Requirement already satisfied: kiwisolver>=1.0.1 in /Users/ahmadbelbeisi/Desktop/Machine_Learning_seminar_Ahmad_Belbeisi_Submission/venv/lib/python3.8/site-packages (from matplotlib) (1.4.4)\r\n",
      "Requirement already satisfied: fonttools>=4.22.0 in /Users/ahmadbelbeisi/Desktop/Machine_Learning_seminar_Ahmad_Belbeisi_Submission/venv/lib/python3.8/site-packages (from matplotlib) (4.34.4)\r\n",
      "Requirement already satisfied: pillow>=6.2.0 in /Users/ahmadbelbeisi/Desktop/Machine_Learning_seminar_Ahmad_Belbeisi_Submission/venv/lib/python3.8/site-packages (from matplotlib) (9.2.0)\r\n",
      "Requirement already satisfied: pyparsing>=2.2.1 in /Users/ahmadbelbeisi/Desktop/Machine_Learning_seminar_Ahmad_Belbeisi_Submission/venv/lib/python3.8/site-packages (from matplotlib) (3.0.9)\r\n",
      "Requirement already satisfied: packaging>=20.0 in /Users/ahmadbelbeisi/Desktop/Machine_Learning_seminar_Ahmad_Belbeisi_Submission/venv/lib/python3.8/site-packages (from matplotlib) (21.3)\r\n",
      "Requirement already satisfied: cycler>=0.10 in /Users/ahmadbelbeisi/Desktop/Machine_Learning_seminar_Ahmad_Belbeisi_Submission/venv/lib/python3.8/site-packages (from matplotlib) (0.11.0)\r\n",
      "Requirement already satisfied: six>=1.5 in /Users/ahmadbelbeisi/Desktop/Machine_Learning_seminar_Ahmad_Belbeisi_Submission/venv/lib/python3.8/site-packages (from python-dateutil>=2.8.1->pandas) (1.16.0)\r\n"
     ]
    }
   ]
  },
  {
   "cell_type": "code",
   "source": [
    "import numpy as np\n",
    "import pandas as pd\n",
    "from matplotlib import pyplot as plt\n",
    "import os\n",
    "import wget"
   ],
   "metadata": {
    "id": "qkb0xO8qyIYD",
    "pycharm": {
     "name": "#%%\n"
    }
   },
   "execution_count": 2,
   "outputs": []
  },
  {
   "cell_type": "code",
   "execution_count": 3,
   "outputs": [],
   "source": [
    "try:\n",
    "  import google.colab\n",
    "  IN_COLAB = True\n",
    "except:\n",
    "  IN_COLAB = False\n",
    "if IN_COLAB == True:\n",
    "    if  os.path.exists(\"train.csv\") and os.path.exists(\"test.csv\") and  os.path.exists(\"sample_submission.csv\"):\n",
    "      pass\n",
    "    else:\n",
    "      !wget https://github.com/ahmadbelb/MLS/raw/main/digit-recognizer.zip\n",
    "      if  not os.path.exists(os.getcwd() + \"digit-recognizer.zip\"):\n",
    "          !unzip digit-recognizer.zip\n",
    "else:\n",
    "    if  os.path.exists(\"train.csv\") and os.path.exists(\"test.csv\") and  os.path.exists(\"sample_submission.csv\"):\n",
    "      pass\n",
    "    else:\n",
    "      if os.path.exists(\"digit-recognizer.zip\"):\n",
    "          print(\"Unzipping you files\")\n",
    "          !unzip digit-recognizer.zip\n",
    "      else:\n",
    "          print(\"Downloading yourfiles and Unziping\")\n",
    "          filename = wget.download(\"https://github.com/ahmadbelb/MLS/raw/main/digit-recognizer.zip\")\n",
    "          !unzip digit-recognizer.zip"
   ],
   "metadata": {
    "collapsed": false,
    "pycharm": {
     "name": "#%%\n"
    }
   }
  },
  {
   "cell_type": "code",
   "execution_count": 4,
   "metadata": {
    "_cell_guid": "b1076dfc-b9ad-4769-8c92-a6c4dae69d19",
    "_uuid": "8f2839f25d086af736a60e9eeb907d3b93b6e0e5",
    "execution": {
     "iopub.execute_input": "2020-11-24T15:33:44.617819Z",
     "iopub.status.busy": "2020-11-24T15:33:44.616734Z",
     "iopub.status.idle": "2020-11-24T15:33:48.545917Z",
     "shell.execute_reply": "2020-11-24T15:33:48.545192Z"
    },
    "papermill": {
     "duration": 3.947576,
     "end_time": "2020-11-24T15:33:48.546057",
     "exception": false,
     "start_time": "2020-11-24T15:33:44.598481",
     "status": "completed"
    },
    "tags": [],
    "id": "mKCYkoCeNco6",
    "pycharm": {
     "name": "#%%\n"
    }
   },
   "outputs": [],
   "source": [
    "datases = pd.read_csv('train.csv')"
   ]
  },
  {
   "cell_type": "code",
   "execution_count": 5,
   "metadata": {
    "execution": {
     "iopub.execute_input": "2020-11-24T15:33:48.577955Z",
     "iopub.status.busy": "2020-11-24T15:33:48.576778Z",
     "iopub.status.idle": "2020-11-24T15:33:49.353469Z",
     "shell.execute_reply": "2020-11-24T15:33:49.352724Z"
    },
    "papermill": {
     "duration": 0.795759,
     "end_time": "2020-11-24T15:33:49.353603",
     "exception": false,
     "start_time": "2020-11-24T15:33:48.557844",
     "status": "completed"
    },
    "tags": [],
    "id": "gafhIzCmNco8",
    "pycharm": {
     "name": "#%%\n"
    }
   },
   "outputs": [],
   "source": [
    "datases = np.array(datases)\n",
    "m, n = datases.shape\n",
    "np.random.shuffle(datases) # shuffle before splitting into dev and training sets\n",
    "\n",
    "data_dev = datases[0:1000].T\n",
    "Y_dev = data_dev[0]\n",
    "X_dev = data_dev[1:n]\n",
    "X_dev = X_dev / 255.\n",
    "\n",
    "data_train = datases[1000:m].T\n",
    "train_y = data_train[0]\n",
    "train_x = data_train[1:n]\n",
    "train_x = train_x / 255.\n",
    "_,m_train = train_x.shape"
   ]
  },
  {
   "cell_type": "code",
   "execution_count": 6,
   "metadata": {
    "execution": {
     "iopub.execute_input": "2020-11-24T15:33:49.385574Z",
     "iopub.status.busy": "2020-11-24T15:33:49.384483Z",
     "iopub.status.idle": "2020-11-24T15:33:49.388342Z",
     "shell.execute_reply": "2020-11-24T15:33:49.388923Z"
    },
    "papermill": {
     "duration": 0.023743,
     "end_time": "2020-11-24T15:33:49.389054",
     "exception": false,
     "start_time": "2020-11-24T15:33:49.365311",
     "status": "completed"
    },
    "tags": [],
    "colab": {
     "base_uri": "https://localhost:8080/"
    },
    "id": "WCPJdDb9Nco9",
    "outputId": "7eba01a3-6893-47ce-a0cb-c6449f4ecdde",
    "pycharm": {
     "name": "#%%\n"
    }
   },
   "outputs": [
    {
     "data": {
      "text/plain": "array([3, 6, 0, ..., 6, 2, 3])"
     },
     "execution_count": 6,
     "metadata": {},
     "output_type": "execute_result"
    }
   ],
   "source": [
    "train_y"
   ]
  },
  {
   "cell_type": "markdown",
   "metadata": {
    "papermill": {
     "duration": 0.011724,
     "end_time": "2020-11-24T15:33:49.413261",
     "exception": false,
     "start_time": "2020-11-24T15:33:49.401537",
     "status": "completed"
    },
    "tags": [],
    "id": "J197XI1tNco-",
    "pycharm": {
     "name": "#%% md\n"
    }
   },
   "source": [
    "Our NN will have a simple two-layer architecture. Input layer $a^{[0]}$ will have 784 units corresponding to the 784 pixels in each 28x28 input image. A hidden layer $a^{[1]}$ will have 10 units with ReLU activation, and finally our output layer $a^{[2]}$ will have 10 units corresponding to the ten digit classes with softmax activation.\n",
    "\n",
    "**Forward propagation**\n",
    "\n",
    "$$Z^{[1]} = W^{[1]} X + b^{[1]}$$\n",
    "$$A^{[1]} = g_{\\text{ReLU}}(Z^{[1]}))$$\n",
    "$$Z^{[2]} = W^{[2]} A^{[1]} + b^{[2]}$$\n",
    "$$A^{[2]} = g_{\\text{softmax}}(Z^{[2]})$$\n",
    "\n",
    "**Backward propagation**\n",
    "\n",
    "$$dZ^{[2]} = A^{[2]} - Y$$\n",
    "$$dW^{[2]} = \\frac{1}{m} dZ^{[2]} A^{[1]T}$$\n",
    "$$dB^{[2]} = \\frac{1}{m} \\Sigma {dZ^{[2]}}$$\n",
    "$$dZ^{[1]} = W^{[2]T} dZ^{[2]} .* g^{[1]\\prime} (z^{[1]})$$\n",
    "$$dW^{[1]} = \\frac{1}{m} dZ^{[1]} A^{[0]T}$$\n",
    "$$dB^{[1]} = \\frac{1}{m} \\Sigma {dZ^{[1]}}$$\n",
    "\n",
    "**Parameter updates**\n",
    "\n",
    "$$W^{[2]} := W^{[2]} - \\alpha dW^{[2]}$$\n",
    "$$b^{[2]} := b^{[2]} - \\alpha db^{[2]}$$\n",
    "$$W^{[1]} := W^{[1]} - \\alpha dW^{[1]}$$\n",
    "$$b^{[1]} := b^{[1]} - \\alpha db^{[1]}$$\n",
    "\n",
    "**Vars and shapes**\n",
    "\n",
    "Forward prop\n",
    "\n",
    "- $A^{[0]} = X$: 784 x m\n",
    "- $Z^{[1]} \\sim A^{[1]}$: 10 x m\n",
    "- $W^{[1]}$: 10 x 784 (as $W^{[1]} A^{[0]} \\sim Z^{[1]}$)\n",
    "- $B^{[1]}$: 10 x 1\n",
    "- $Z^{[2]} \\sim A^{[2]}$: 10 x m\n",
    "- $W^{[1]}$: 10 x 10 (as $W^{[2]} A^{[1]} \\sim Z^{[2]}$)\n",
    "- $B^{[2]}$: 10 x 1\n",
    "\n",
    "Backprop\n",
    "\n",
    "- $dZ^{[2]}$: 10 x m ($~A^{[2]}$)\n",
    "- $dW^{[2]}$: 10 x 10\n",
    "- $dB^{[2]}$: 10 x 1\n",
    "- $dZ^{[1]}$: 10 x m ($~A^{[1]}$)\n",
    "- $dW^{[1]}$: 10 x 10\n",
    "- $dB^{[1]}$: 10 x 1"
   ]
  },
  {
   "cell_type": "code",
   "execution_count": 7,
   "metadata": {
    "execution": {
     "iopub.execute_input": "2020-11-24T15:33:49.458553Z",
     "iopub.status.busy": "2020-11-24T15:33:49.457534Z",
     "iopub.status.idle": "2020-11-24T15:33:49.460243Z",
     "shell.execute_reply": "2020-11-24T15:33:49.460754Z"
    },
    "papermill": {
     "duration": 0.035762,
     "end_time": "2020-11-24T15:33:49.460906",
     "exception": false,
     "start_time": "2020-11-24T15:33:49.425144",
     "status": "completed"
    },
    "tags": [],
    "id": "FCb0DIDeNco_",
    "pycharm": {
     "name": "#%%\n"
    }
   },
   "outputs": [],
   "source": [
    "def initialize_weights_biases():\n",
    "    Weight_1 = np.random.rand(10, 784) - 0.5\n",
    "    bias_1 = np.random.rand(10, 1) - 0.5\n",
    "    Weight_2 = np.random.rand(10, 10) - 0.5\n",
    "    bias_2 = np.random.rand(10, 1) - 0.5\n",
    "    return Weight_1, bias_1, Weight_2, bias_2\n",
    "\n",
    "def ReLU(Z):\n",
    "    return np.maximum(Z, 0)\n",
    "\n",
    "def softmax(Z):\n",
    "    A = np.exp(Z) / sum(np.exp(Z))\n",
    "    return A\n",
    "    \n",
    "def forward_propagation(Weight_1, bias_1, Weight_2, bias_2, X):\n",
    "    Z1 = Weight_1.dot(X) + bias_1\n",
    "    A1 = ReLU(Z1)\n",
    "    Z2 = Weight_2.dot(A1) + bias_2\n",
    "    A2 = softmax(Z2)\n",
    "    return Z1, A1, Z2, A2\n",
    "\n",
    "def ReLU_deriv(Z):\n",
    "    return Z > 0\n",
    "\n",
    "\n",
    "\"\"\"\n",
    "Takes LongTensor with index values of shape (*) and returns a tensor of shape (*, num_classes)\n",
    "that have zeros everywhere except where the index of last dimension matches the corresponding\n",
    "value of the input tensor, in which case it will be 1.\n",
    "\"\"\"\n",
    "def one_hot(Y):\n",
    "    one_hot_Y = np.zeros((Y.size, Y.max() + 1))\n",
    "    one_hot_Y[np.arange(Y.size), Y] = 1\n",
    "    one_hot_Y = one_hot_Y.T\n",
    "    return one_hot_Y\n",
    "\n",
    "def backward_propagation(Z1, A1, Z2, A2, Weight_1, Weight_2, X, Y):\n",
    "    one_hot_Y = one_hot(Y)\n",
    "    dZ2 = A2 - one_hot_Y\n",
    "    dW2 = 1 / m * dZ2.dot(A1.T)\n",
    "    db2 = 1 / m * np.sum(dZ2)\n",
    "    dZ1 = Weight_2.T.dot(dZ2) * ReLU_deriv(Z1)\n",
    "    dW1 = 1 / m * dZ1.dot(X.T)\n",
    "    db1 = 1 / m * np.sum(dZ1)\n",
    "    return dW1, db1, dW2, db2\n",
    "\n",
    "def update_params(Weight_1, bias_1, Weight_2, bias_2, dW1, db1, dW2, db2, alpha):\n",
    "    Weight_1 = Weight_1 - alpha * dW1\n",
    "    bias_1 = bias_1 - alpha * db1\n",
    "    Weight_2 = Weight_2 - alpha * dW2\n",
    "    bias_2 = bias_2 - alpha * db2\n",
    "    return Weight_1, bias_1, Weight_2, bias_2"
   ]
  },
  {
   "cell_type": "code",
   "execution_count": 8,
   "metadata": {
    "execution": {
     "iopub.execute_input": "2020-11-24T15:33:49.496820Z",
     "iopub.status.busy": "2020-11-24T15:33:49.493109Z",
     "iopub.status.idle": "2020-11-24T15:33:49.499268Z",
     "shell.execute_reply": "2020-11-24T15:33:49.499782Z"
    },
    "papermill": {
     "duration": 0.026744,
     "end_time": "2020-11-24T15:33:49.499906",
     "exception": false,
     "start_time": "2020-11-24T15:33:49.473162",
     "status": "completed"
    },
    "tags": [],
    "id": "GGiXcUv-NcpA",
    "pycharm": {
     "name": "#%%\n"
    }
   },
   "outputs": [],
   "source": [
    "def fetch_predictions(A2):\n",
    "    return np.argmax(A2, 0)\n",
    "\n",
    "def find_accuracy(predictions, Y):\n",
    "    print(predictions, Y)\n",
    "    return np.sum(predictions == Y) / Y.size\n",
    "\n",
    "def gradient_descent(X, Y, alpha, iterations):\n",
    "    Weight_1, bias_1, Weight_2, bias_2 = initialize_weights_biases()\n",
    "    for i in range(iterations):\n",
    "        Z1, A1, Z2, A2 = forward_propagation(Weight_1, bias_1, Weight_2, bias_2, X)\n",
    "        dW1, db1, dW2, db2 = backward_propagation(Z1, A1, Z2, A2, Weight_1, Weight_2, X, Y)\n",
    "        Weight_1, bias_1, Weight_2, bias_2 = update_params(Weight_1, bias_1, Weight_2, bias_2, dW1, db1, dW2, db2, alpha)\n",
    "        if i % 10 == 0:\n",
    "            print(\"Iteration: \", i)\n",
    "            predictions = fetch_predictions(A2)\n",
    "            print(find_accuracy(predictions, Y))\n",
    "    return Weight_1, bias_1, Weight_2, bias_2"
   ]
  },
  {
   "cell_type": "code",
   "execution_count": 9,
   "metadata": {
    "execution": {
     "iopub.execute_input": "2020-11-24T15:33:49.529813Z",
     "iopub.status.busy": "2020-11-24T15:33:49.529067Z",
     "iopub.status.idle": "2020-11-24T15:34:33.915250Z",
     "shell.execute_reply": "2020-11-24T15:34:33.914598Z"
    },
    "papermill": {
     "duration": 44.403186,
     "end_time": "2020-11-24T15:34:33.915380",
     "exception": false,
     "start_time": "2020-11-24T15:33:49.512194",
     "status": "completed"
    },
    "tags": [],
    "colab": {
     "base_uri": "https://localhost:8080/"
    },
    "id": "NRKVs_05NcpB",
    "outputId": "aa9bd8ef-ef5e-4188-f786-1543625ed6a4",
    "pycharm": {
     "name": "#%%\n"
    }
   },
   "outputs": [
    {
     "name": "stdout",
     "output_type": "stream",
     "text": [
      "Iteration:  0\n",
      "[6 6 6 ... 2 5 6] [3 6 0 ... 6 2 3]\n",
      "0.08275609756097561\n",
      "Iteration:  10\n",
      "[6 5 6 ... 2 5 3] [3 6 0 ... 6 2 3]\n",
      "0.1608048780487805\n",
      "Iteration:  20\n",
      "[3 5 2 ... 2 5 3] [3 6 0 ... 6 2 3]\n",
      "0.21092682926829268\n",
      "Iteration:  30\n",
      "[3 5 2 ... 2 5 3] [3 6 0 ... 6 2 3]\n",
      "0.2754878048780488\n",
      "Iteration:  40\n",
      "[3 5 2 ... 2 6 9] [3 6 0 ... 6 2 3]\n",
      "0.3275609756097561\n",
      "Iteration:  50\n",
      "[3 5 0 ... 2 6 9] [3 6 0 ... 6 2 3]\n",
      "0.37397560975609756\n",
      "Iteration:  60\n",
      "[3 8 0 ... 2 6 9] [3 6 0 ... 6 2 3]\n",
      "0.4191951219512195\n",
      "Iteration:  70\n",
      "[3 8 0 ... 2 6 9] [3 6 0 ... 6 2 3]\n",
      "0.47792682926829266\n",
      "Iteration:  80\n",
      "[3 8 0 ... 2 6 9] [3 6 0 ... 6 2 3]\n",
      "0.5433414634146342\n",
      "Iteration:  90\n",
      "[3 8 0 ... 6 6 9] [3 6 0 ... 6 2 3]\n",
      "0.5932195121951219\n",
      "Iteration:  100\n",
      "[3 8 0 ... 6 6 9] [3 6 0 ... 6 2 3]\n",
      "0.6305853658536585\n",
      "Iteration:  110\n",
      "[3 8 0 ... 6 6 3] [3 6 0 ... 6 2 3]\n",
      "0.6577560975609756\n",
      "Iteration:  120\n",
      "[3 8 0 ... 6 6 3] [3 6 0 ... 6 2 3]\n",
      "0.6803170731707318\n",
      "Iteration:  130\n",
      "[3 8 0 ... 6 6 3] [3 6 0 ... 6 2 3]\n",
      "0.6992682926829268\n",
      "Iteration:  140\n",
      "[3 8 0 ... 6 6 3] [3 6 0 ... 6 2 3]\n",
      "0.7162195121951219\n",
      "Iteration:  150\n",
      "[3 6 0 ... 6 6 3] [3 6 0 ... 6 2 3]\n",
      "0.7288536585365853\n",
      "Iteration:  160\n",
      "[3 6 0 ... 6 6 3] [3 6 0 ... 6 2 3]\n",
      "0.742390243902439\n",
      "Iteration:  170\n",
      "[3 6 0 ... 6 6 3] [3 6 0 ... 6 2 3]\n",
      "0.7528292682926829\n",
      "Iteration:  180\n",
      "[3 6 0 ... 6 6 3] [3 6 0 ... 6 2 3]\n",
      "0.7612926829268293\n",
      "Iteration:  190\n",
      "[3 6 0 ... 6 6 3] [3 6 0 ... 6 2 3]\n",
      "0.7696341463414634\n",
      "Iteration:  200\n",
      "[3 6 0 ... 6 6 3] [3 6 0 ... 6 2 3]\n",
      "0.7765365853658537\n",
      "Iteration:  210\n",
      "[3 6 0 ... 6 6 3] [3 6 0 ... 6 2 3]\n",
      "0.7822439024390244\n",
      "Iteration:  220\n",
      "[3 6 0 ... 6 2 3] [3 6 0 ... 6 2 3]\n",
      "0.7882926829268293\n",
      "Iteration:  230\n",
      "[3 6 0 ... 6 2 3] [3 6 0 ... 6 2 3]\n",
      "0.7936829268292683\n",
      "Iteration:  240\n",
      "[3 6 0 ... 6 2 3] [3 6 0 ... 6 2 3]\n",
      "0.7981463414634147\n",
      "Iteration:  250\n",
      "[3 6 0 ... 6 2 3] [3 6 0 ... 6 2 3]\n",
      "0.8019756097560976\n",
      "Iteration:  260\n",
      "[3 6 0 ... 6 2 3] [3 6 0 ... 6 2 3]\n",
      "0.8059268292682927\n",
      "Iteration:  270\n",
      "[3 6 0 ... 6 2 3] [3 6 0 ... 6 2 3]\n",
      "0.8097317073170732\n",
      "Iteration:  280\n",
      "[3 6 0 ... 6 2 3] [3 6 0 ... 6 2 3]\n",
      "0.8134634146341463\n",
      "Iteration:  290\n",
      "[3 6 0 ... 6 2 3] [3 6 0 ... 6 2 3]\n",
      "0.8164390243902439\n",
      "Iteration:  300\n",
      "[3 6 0 ... 6 2 3] [3 6 0 ... 6 2 3]\n",
      "0.8198780487804878\n",
      "Iteration:  310\n",
      "[3 6 0 ... 6 2 3] [3 6 0 ... 6 2 3]\n",
      "0.8222926829268292\n",
      "Iteration:  320\n",
      "[3 6 0 ... 6 2 3] [3 6 0 ... 6 2 3]\n",
      "0.8245365853658536\n",
      "Iteration:  330\n",
      "[3 6 0 ... 6 2 3] [3 6 0 ... 6 2 3]\n",
      "0.8270975609756097\n",
      "Iteration:  340\n",
      "[3 6 0 ... 6 2 3] [3 6 0 ... 6 2 3]\n",
      "0.8294634146341463\n",
      "Iteration:  350\n",
      "[3 6 0 ... 6 2 3] [3 6 0 ... 6 2 3]\n",
      "0.8315609756097561\n",
      "Iteration:  360\n",
      "[3 6 0 ... 6 2 3] [3 6 0 ... 6 2 3]\n",
      "0.8339512195121951\n",
      "Iteration:  370\n",
      "[3 6 0 ... 6 2 3] [3 6 0 ... 6 2 3]\n",
      "0.8355609756097561\n",
      "Iteration:  380\n",
      "[3 6 0 ... 6 2 3] [3 6 0 ... 6 2 3]\n",
      "0.8372926829268292\n",
      "Iteration:  390\n",
      "[3 6 0 ... 6 2 3] [3 6 0 ... 6 2 3]\n",
      "0.8390731707317073\n",
      "Iteration:  400\n",
      "[3 6 0 ... 6 2 3] [3 6 0 ... 6 2 3]\n",
      "0.8408536585365853\n",
      "Iteration:  410\n",
      "[3 6 0 ... 6 2 3] [3 6 0 ... 6 2 3]\n",
      "0.8425365853658536\n",
      "Iteration:  420\n",
      "[3 6 0 ... 6 2 3] [3 6 0 ... 6 2 3]\n",
      "0.8435609756097561\n",
      "Iteration:  430\n",
      "[3 6 0 ... 6 2 3] [3 6 0 ... 6 2 3]\n",
      "0.8449268292682927\n",
      "Iteration:  440\n",
      "[3 6 0 ... 6 2 3] [3 6 0 ... 6 2 3]\n",
      "0.8461951219512195\n",
      "Iteration:  450\n",
      "[3 6 0 ... 6 2 3] [3 6 0 ... 6 2 3]\n",
      "0.8471951219512195\n",
      "Iteration:  460\n",
      "[3 6 0 ... 6 2 3] [3 6 0 ... 6 2 3]\n",
      "0.8483658536585366\n",
      "Iteration:  470\n",
      "[3 6 0 ... 6 2 3] [3 6 0 ... 6 2 3]\n",
      "0.8495365853658536\n",
      "Iteration:  480\n",
      "[3 6 0 ... 6 2 3] [3 6 0 ... 6 2 3]\n",
      "0.8508048780487805\n",
      "Iteration:  490\n",
      "[3 6 0 ... 6 2 3] [3 6 0 ... 6 2 3]\n",
      "0.8518048780487805\n"
     ]
    }
   ],
   "source": [
    "Weight_1, bias_1, Weight_2, bias_2 = gradient_descent(train_x, train_y, 0.10, 500)"
   ]
  },
  {
   "cell_type": "markdown",
   "metadata": {
    "papermill": {
     "duration": 0.03222,
     "end_time": "2020-11-24T15:34:33.980634",
     "exception": false,
     "start_time": "2020-11-24T15:34:33.948414",
     "status": "completed"
    },
    "tags": [],
    "id": "19PnaRIANcpB",
    "pycharm": {
     "name": "#%% md\n"
    }
   },
   "source": [
    "~85% accuracy on training set."
   ]
  },
  {
   "cell_type": "code",
   "execution_count": 10,
   "metadata": {
    "execution": {
     "iopub.execute_input": "2020-11-24T15:34:34.058947Z",
     "iopub.status.busy": "2020-11-24T15:34:34.058192Z",
     "iopub.status.idle": "2020-11-24T15:34:34.061542Z",
     "shell.execute_reply": "2020-11-24T15:34:34.060921Z"
    },
    "papermill": {
     "duration": 0.048197,
     "end_time": "2020-11-24T15:34:34.061656",
     "exception": false,
     "start_time": "2020-11-24T15:34:34.013459",
     "status": "completed"
    },
    "tags": [],
    "id": "8x6m_Td2NcpC",
    "pycharm": {
     "name": "#%%\n"
    }
   },
   "outputs": [],
   "source": [
    "def make_predictions(X, Weight_1, bias_1, Weight_2, bias_2):\n",
    "    _, _, _, A2 = forward_propagation(Weight_1, bias_1, Weight_2, bias_2, X)\n",
    "    predictions = fetch_predictions(A2)\n",
    "    return predictions\n",
    "\n",
    "def test_prediction(index, Weight_1, bias_1, Weight_2, bias_2):\n",
    "    current_image = train_x[:, index, None]\n",
    "    prediction = make_predictions(train_x[:, index, None], Weight_1, bias_1, Weight_2, bias_2)\n",
    "    label = train_y[index]\n",
    "    print(\"Prediction: \", prediction)\n",
    "    print(\"Label: \", label)\n",
    "    \n",
    "    current_image = current_image.reshape((28, 28)) * 255\n",
    "    plt.gray()\n",
    "    plt.imshow(current_image, interpolation='nearest')\n",
    "    plt.show()"
   ]
  },
  {
   "cell_type": "markdown",
   "metadata": {
    "papermill": {
     "duration": 0.032382,
     "end_time": "2020-11-24T15:34:34.126664",
     "exception": false,
     "start_time": "2020-11-24T15:34:34.094282",
     "status": "completed"
    },
    "tags": [],
    "id": "dnPs3HcPNcpC",
    "pycharm": {
     "name": "#%% md\n"
    }
   },
   "source": [
    "Let's look at a couple of examples:"
   ]
  },
  {
   "cell_type": "code",
   "execution_count": 11,
   "metadata": {
    "execution": {
     "iopub.execute_input": "2020-11-24T15:34:34.198764Z",
     "iopub.status.busy": "2020-11-24T15:34:34.197926Z",
     "iopub.status.idle": "2020-11-24T15:34:34.858256Z",
     "shell.execute_reply": "2020-11-24T15:34:34.857536Z"
    },
    "papermill": {
     "duration": 0.699008,
     "end_time": "2020-11-24T15:34:34.858375",
     "exception": false,
     "start_time": "2020-11-24T15:34:34.159367",
     "status": "completed"
    },
    "tags": [],
    "colab": {
     "base_uri": "https://localhost:8080/",
     "height": 1000
    },
    "id": "bQIJRu5lNcpD",
    "outputId": "7d054efc-1611-402b-eb56-b2f39761a981",
    "pycharm": {
     "name": "#%%\n"
    }
   },
   "outputs": [
    {
     "name": "stdout",
     "output_type": "stream",
     "text": [
      "Prediction:  [3]\n",
      "Label:  3\n"
     ]
    },
    {
     "data": {
      "text/plain": "<Figure size 432x288 with 1 Axes>",
      "image/png": "[encoded data removed]"
     },
     "metadata": {
      "needs_background": "light"
     },
     "output_type": "display_data"
    },
    {
     "name": "stdout",
     "output_type": "stream",
     "text": [
      "Prediction:  [6]\n",
      "Label:  6\n"
     ]
    },
    {
     "data": {
      "text/plain": "<Figure size 432x288 with 1 Axes>",
      "image/png": "[encoded data removed]"
     },
     "metadata": {
      "needs_background": "light"
     },
     "output_type": "display_data"
    },
    {
     "name": "stdout",
     "output_type": "stream",
     "text": [
      "Prediction:  [0]\n",
      "Label:  0\n"
     ]
    },
    {
     "data": {
      "text/plain": "<Figure size 432x288 with 1 Axes>",
      "image/png": "[encoded data removed]"
     },
     "metadata": {
      "needs_background": "light"
     },
     "output_type": "display_data"
    },
    {
     "name": "stdout",
     "output_type": "stream",
     "text": [
      "Prediction:  [6]\n",
      "Label:  6\n"
     ]
    },
    {
     "data": {
      "text/plain": "<Figure size 432x288 with 1 Axes>",
      "image/png": "[encoded data removed]"
     },
     "metadata": {
      "needs_background": "light"
     },
     "output_type": "display_data"
    }
   ],
   "source": [
    "test_prediction(0, Weight_1, bias_1, Weight_2, bias_2)\n",
    "test_prediction(1, Weight_1, bias_1, Weight_2, bias_2)\n",
    "test_prediction(2, Weight_1, bias_1, Weight_2, bias_2)\n",
    "test_prediction(3, Weight_1, bias_1, Weight_2, bias_2)"
   ]
  },
  {
   "cell_type": "markdown",
   "metadata": {
    "papermill": {
     "duration": 0.037333,
     "end_time": "2020-11-24T15:34:34.933186",
     "exception": false,
     "start_time": "2020-11-24T15:34:34.895853",
     "status": "completed"
    },
    "tags": [],
    "id": "SZGX6eTDNcpD",
    "pycharm": {
     "name": "#%% md\n"
    }
   },
   "source": [
    "Finally, let's find the accuracy on the dev set:"
   ]
  },
  {
   "cell_type": "code",
   "execution_count": 12,
   "metadata": {
    "execution": {
     "iopub.execute_input": "2020-11-24T15:34:35.013161Z",
     "iopub.status.busy": "2020-11-24T15:34:35.012371Z",
     "iopub.status.idle": "2020-11-24T15:34:35.033284Z",
     "shell.execute_reply": "2020-11-24T15:34:35.032394Z"
    },
    "papermill": {
     "duration": 0.062985,
     "end_time": "2020-11-24T15:34:35.033457",
     "exception": false,
     "start_time": "2020-11-24T15:34:34.970472",
     "status": "completed"
    },
    "tags": [],
    "colab": {
     "base_uri": "https://localhost:8080/"
    },
    "id": "vBvef9HaNcpD",
    "outputId": "11a49e2e-c881-4110-ab00-8f8ff06f7980",
    "pycharm": {
     "name": "#%%\n"
    }
   },
   "outputs": [
    {
     "name": "stdout",
     "output_type": "stream",
     "text": [
      "[7 1 5 7 0 4 8 6 7 5 1 8 7 8 8 0 7 6 4 8 6 1 8 0 1 3 0 6 0 0 4 2 1 6 5 3 7\n",
      " 3 3 0 8 0 8 4 9 1 5 4 1 9 3 1 9 0 5 8 2 3 5 7 7 0 7 0 9 1 7 7 9 9 7 5 4 0\n",
      " 2 0 5 8 1 5 7 7 9 2 3 1 7 2 7 7 1 6 6 7 1 5 1 3 6 9 6 6 7 8 0 3 0 7 6 3 0\n",
      " 9 4 3 3 4 5 2 7 7 3 2 8 9 5 5 3 2 1 1 3 8 1 9 6 2 5 9 1 1 6 1 7 8 0 8 3 0\n",
      " 9 0 8 4 6 3 8 6 8 3 4 6 1 7 2 8 1 0 9 9 6 0 7 5 7 7 8 2 7 8 3 1 6 2 9 8 5\n",
      " 9 0 2 9 1 8 8 6 1 7 3 7 5 7 3 1 1 1 4 5 8 3 3 9 7 2 4 2 7 2 7 3 1 6 1 5 3\n",
      " 1 5 9 9 1 9 0 5 5 1 6 6 4 1 4 5 7 8 7 6 7 1 8 8 3 9 5 9 6 2 5 6 1 9 6 2 7\n",
      " 6 5 1 6 1 4 5 1 2 9 3 7 4 1 5 2 8 2 0 2 2 3 8 3 0 7 1 9 4 7 0 6 2 8 4 4 1\n",
      " 2 8 8 7 0 1 6 8 3 3 1 4 7 2 1 3 5 0 2 1 4 6 3 5 8 7 5 8 6 1 6 6 3 2 1 0 6\n",
      " 8 8 5 0 2 7 4 1 8 6 7 3 6 8 2 2 1 0 8 0 2 3 3 8 3 1 5 7 0 5 6 4 8 4 0 2 8\n",
      " 0 3 0 1 0 7 4 9 5 8 8 1 7 6 0 2 4 1 7 9 5 0 0 9 7 4 2 2 9 1 5 3 6 7 4 8 5\n",
      " 3 1 9 8 1 6 8 8 7 4 3 8 4 3 5 5 2 6 5 4 6 3 1 0 5 4 7 5 2 1 5 1 2 2 4 7 0\n",
      " 1 4 5 4 2 7 3 2 6 7 9 4 7 0 7 2 6 6 3 3 2 7 7 6 0 2 4 1 4 4 2 9 0 0 3 0 2\n",
      " 2 1 1 8 8 1 6 6 4 7 1 9 0 8 8 1 1 7 6 1 5 6 8 1 5 9 7 9 1 1 5 7 4 3 7 9 0\n",
      " 1 3 5 6 7 7 1 4 2 1 6 5 3 9 9 5 2 5 3 6 2 2 0 7 0 5 4 3 2 3 0 2 7 4 8 0 7\n",
      " 6 9 8 4 6 3 6 5 3 7 5 3 0 7 6 5 7 8 5 5 9 3 7 4 3 1 3 1 2 8 7 8 5 0 7 9 8\n",
      " 5 8 6 4 1 7 4 5 7 0 2 8 9 8 3 4 1 6 3 4 7 1 0 1 4 1 6 5 4 4 6 8 5 6 2 9 9\n",
      " 5 6 2 1 0 2 2 9 3 8 1 2 0 9 6 2 4 2 9 3 3 7 0 7 6 9 5 1 7 3 3 3 4 9 8 9 5\n",
      " 1 3 2 5 5 7 3 6 6 3 5 3 0 7 6 7 1 0 7 2 7 1 4 6 2 9 9 7 7 4 3 9 8 3 7 3 3\n",
      " 2 0 8 4 0 6 0 2 9 0 1 4 7 5 2 6 5 9 0 6 1 1 8 1 7 7 9 4 5 4 5 5 0 4 8 8 1\n",
      " 7 1 1 3 0 5 5 7 9 1 2 5 7 3 9 7 7 3 5 5 0 8 2 5 6 1 0 5 2 8 0 3 3 7 1 7 8\n",
      " 8 9 4 8 1 6 0 1 8 3 2 8 4 3 6 3 4 8 3 6 4 7 6 0 7 4 7 0 8 2 9 6 6 9 2 3 3\n",
      " 5 2 7 5 0 6 6 3 8 0 0 8 8 3 1 7 0 9 4 4 1 3 3 3 3 6 2 1 2 4 5 2 4 9 0 2 5\n",
      " 5 2 0 5 6 2 4 3 0 4 6 6 9 0 7 8 6 1 7 7 0 2 6 9 6 4 5 2 9 9 9 2 9 8 4 7 6\n",
      " 5 0 7 8 1 1 8 6 3 5 9 2 8 2 4 8 7 4 7 6 0 4 5 1 7 4 9 1 8 2 2 3 8 7 4 5 8\n",
      " 8 1 2 1 8 0 4 2 4 9 0 9 3 8 2 4 8 5 6 4 4 8 1 7 8 4 9 8 0 6 7 1 8 8 9 8 1\n",
      " 0 5 6 3 6 8 4 2 1 0 2 6 8 2 7 8 6 9 8 8 3 4 2 8 5 1 7 1 7 1 1 6 3 8 4 8 0\n",
      " 1] [9 1 5 7 0 4 8 6 7 5 1 8 7 8 8 0 7 4 4 1 6 2 8 0 7 3 0 2 0 0 4 2 1 3 5 8 7\n",
      " 3 3 0 8 0 8 4 9 1 5 4 3 9 3 1 9 0 5 8 2 3 5 7 7 0 7 0 9 1 7 7 9 9 7 5 4 0\n",
      " 2 0 5 8 1 5 7 7 9 2 3 1 7 3 7 7 1 6 6 7 1 1 1 3 6 9 6 2 7 8 0 3 0 7 6 5 0\n",
      " 9 4 3 3 4 3 2 7 7 3 4 8 4 5 5 5 2 1 1 3 8 5 9 6 2 5 9 1 1 2 1 7 8 9 8 3 3\n",
      " 9 0 8 4 6 3 8 6 5 3 4 4 1 7 2 8 1 0 9 9 6 2 7 6 7 7 8 2 7 8 3 1 6 3 9 8 5\n",
      " 9 0 2 9 1 8 8 6 1 7 3 7 5 7 4 1 1 1 4 5 6 3 7 9 7 2 4 2 7 8 7 3 1 6 1 3 3\n",
      " 1 3 9 3 1 9 0 5 5 1 6 6 9 1 4 5 7 8 7 6 7 1 8 8 3 9 5 9 5 2 5 6 1 9 6 2 3\n",
      " 4 5 1 6 1 2 0 1 2 9 5 7 4 1 5 4 8 2 5 2 2 3 8 3 0 7 1 3 4 7 0 6 2 8 4 4 1\n",
      " 2 8 2 3 0 1 6 3 3 3 1 9 8 2 1 3 5 0 2 5 4 6 3 5 8 7 5 8 6 1 4 6 3 6 1 2 6\n",
      " 8 8 5 0 6 7 4 1 8 6 7 3 6 5 2 2 1 0 8 6 2 3 3 8 5 1 5 7 0 5 6 4 8 4 0 2 8\n",
      " 0 5 0 1 0 7 4 9 5 2 5 8 7 5 0 2 9 1 7 9 0 0 0 9 7 4 2 2 9 8 5 3 6 7 4 8 5\n",
      " 3 1 7 8 1 6 8 8 7 4 3 5 4 3 4 5 2 6 0 4 6 3 1 0 5 4 7 5 2 1 5 1 2 3 6 7 5\n",
      " 1 9 5 4 2 7 3 2 6 7 9 4 7 0 7 2 6 6 0 5 2 7 7 6 0 2 4 1 4 4 2 9 0 0 3 0 2\n",
      " 6 1 8 8 8 1 6 6 4 7 1 9 0 5 2 1 1 7 8 1 5 6 8 1 5 9 7 9 1 1 5 7 7 3 7 9 0\n",
      " 1 3 5 6 7 7 1 4 2 1 3 5 3 9 9 5 2 5 3 6 2 2 0 7 2 3 4 3 2 3 0 2 7 4 8 0 2\n",
      " 2 9 8 4 6 3 6 5 3 7 5 3 0 7 6 5 7 0 5 5 9 3 3 4 8 2 3 1 2 8 7 8 5 0 7 9 8\n",
      " 5 8 6 4 1 7 4 5 7 0 2 8 9 8 3 9 1 6 3 4 7 8 0 1 4 1 6 5 4 9 6 1 5 6 5 9 9\n",
      " 5 6 2 1 0 0 2 9 3 3 1 2 0 7 6 0 4 2 9 3 3 9 0 7 6 9 5 5 7 3 1 3 4 9 4 7 5\n",
      " 2 3 2 3 3 7 3 6 6 3 5 7 0 7 2 7 1 0 7 2 7 1 4 6 2 9 5 7 7 4 3 9 8 3 7 3 1\n",
      " 2 0 4 4 0 5 0 2 7 0 1 6 7 5 0 6 6 4 0 6 1 1 3 1 9 7 7 4 5 4 5 5 0 4 8 8 1\n",
      " 7 1 1 3 0 5 5 7 9 1 2 5 7 3 9 8 7 3 5 5 6 8 2 5 6 1 2 5 2 8 0 3 3 7 1 7 8\n",
      " 8 9 4 8 1 6 0 1 8 3 2 8 4 3 6 2 4 8 3 6 4 7 6 0 7 4 2 0 8 5 8 6 2 4 2 3 3\n",
      " 5 6 7 5 0 6 6 3 8 0 0 3 8 3 1 7 0 9 4 4 1 3 3 3 1 6 2 1 2 4 3 2 4 9 0 2 5\n",
      " 5 2 0 5 6 2 4 3 0 4 6 4 9 0 7 8 6 1 7 7 0 7 6 9 6 4 9 2 9 9 9 2 9 8 4 7 6\n",
      " 5 0 7 8 3 1 8 6 3 5 9 3 8 2 2 8 9 6 9 6 0 4 5 2 7 6 9 1 8 3 2 9 8 9 4 5 8\n",
      " 3 1 6 8 3 0 4 2 4 9 0 9 3 8 2 4 8 5 2 4 4 5 1 7 8 4 9 2 0 6 7 1 3 3 9 8 1\n",
      " 2 5 5 3 6 9 4 2 1 0 6 6 8 2 7 8 6 9 5 8 3 4 2 8 5 1 7 1 7 1 8 6 7 8 5 8 0\n",
      " 1]\n"
     ]
    },
    {
     "data": {
      "text/plain": "0.836"
     },
     "execution_count": 12,
     "metadata": {},
     "output_type": "execute_result"
    }
   ],
   "source": [
    "dev_predictions = make_predictions(X_dev, Weight_1, bias_1, Weight_2, bias_2)\n",
    "find_accuracy(dev_predictions, Y_dev)"
   ]
  },
  {
   "cell_type": "markdown",
   "metadata": {
    "papermill": {
     "duration": 0.038287,
     "end_time": "2020-11-24T15:34:35.112466",
     "exception": false,
     "start_time": "2020-11-24T15:34:35.074179",
     "status": "completed"
    },
    "tags": [],
    "id": "pB2Oks5ANcpE",
    "pycharm": {
     "name": "#%% md\n"
    }
   },
   "source": [
    "Still 84% accuracy, so our model generalized from the training datases pretty well."
   ]
  }
 ],
 "metadata": {
  "kernelspec": {
   "display_name": "Python 3",
   "language": "python",
   "name": "python3"
  },
  "language_info": {
   "codemirror_mode": {
    "name": "ipython",
    "version": 3
   },
   "file_extension": ".py",
   "mimetype": "text/x-python",
   "name": "python",
   "nbconvert_exporter": "python",
   "pygments_lexer": "ipython3",
   "version": "3.7.6"
  },
  "papermill": {
   "duration": 55.320944,
   "end_time": "2020-11-24T15:34:35.258832",
   "environment_variables": {},
   "exception": null,
   "input_path": "__notebook__.ipynb",
   "output_path": "__notebook__.ipynb",
   "parameters": {},
   "start_time": "2020-11-24T15:33:39.937888",
   "version": "2.1.0"
  },
  "colab": {
   "name": "MNIST NN from scratch.ipynb",
   "provenance": []
  }
 },
 "nbformat": 4,
 "nbformat_minor": 0
}